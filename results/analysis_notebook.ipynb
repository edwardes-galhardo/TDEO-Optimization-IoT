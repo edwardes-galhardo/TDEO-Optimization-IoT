{
 "cells": [
  {
   "cell_type": "code",
   "execution_count": null,
   "metadata": {},
   "outputs": [],
   "source": [
    "# analysis_notebook.ipynb\n",
    "\n",
    "import pandas as pd\n",
    "import matplotlib.pyplot as plt\n",
    "\n",
    "# Carregar dados da simulação\n",
    "df = pd.read_csv('simulated_scenario_1.csv')\n",
    "\n",
    "# Gráfico da taxa de sucesso vs consumo\n",
    "plt.figure(figsize=(10, 6))\n",
    "for power in df['Power (mW)'].unique():\n",
    "    subset = df[df['Power (mW)'] == power]\n",
    "    plt.plot(subset['Device ID'], subset['Success Rate'], label=f'Power {power} mW')\n",
    "\n",
    "plt.xlabel('Device ID')\n",
    "plt.ylabel('Success Rate')\n",
    "plt.title('Success Rate by Power Level')\n",
    "plt.legend()\n",
    "plt.show()\n"
   ]
  }
 ],
 "metadata": {
  "language_info": {
   "name": "python"
  }
 },
 "nbformat": 4,
 "nbformat_minor": 2
}
