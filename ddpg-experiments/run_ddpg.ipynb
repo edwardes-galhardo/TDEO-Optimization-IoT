{
 "cells": [
  {
   "cell_type": "code",
   "execution_count": null,
   "metadata": {},
   "outputs": [],
   "source": [
    "# run_ddpg.ipynb\n",
    "\n",
    "### Treinamento do Agente DDPG\n",
    "\n",
    "from ddpg_model import model\n",
    "from environment import IoTEnv\n",
    "\n",
    "env = IoTEnv()\n",
    "model.learn(total_timesteps=10000)\n"
   ]
  }
 ],
 "metadata": {
  "language_info": {
   "name": "python"
  }
 },
 "nbformat": 4,
 "nbformat_minor": 2
}
